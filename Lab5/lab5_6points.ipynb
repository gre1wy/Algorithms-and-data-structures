{
 "cells": [
  {
   "cell_type": "code",
   "execution_count": 1,
   "metadata": {},
   "outputs": [],
   "source": [
    "import numpy as np"
   ]
  },
  {
   "cell_type": "code",
   "execution_count": 2,
   "metadata": {},
   "outputs": [],
   "source": [
    "class TreeNode:\n",
    "    def __init__(self, value=None, left=None, right=None):\n",
    "        self.value = value\n",
    "        self.left = left\n",
    "        self.right = right\n"
   ]
  },
  {
   "cell_type": "code",
   "execution_count": 13,
   "metadata": {},
   "outputs": [],
   "source": [
    "def print_tree(root, is_left=None, prefix='', has_right_child=True, has_left_child=True, searched_value=None):\n",
    "    \"\"\"\n",
    "    Demonstating binary tree\n",
    "    \"\"\"\n",
    "    if searched_value:\n",
    "        if root.left:\n",
    "            print_tree(root.left, True, prefix + ('    ' if has_right_child else '|   '), has_right_child=True, has_left_child=False, searched_value=searched_value)\n",
    "\n",
    "        if is_left == True:\n",
    "            if root.left:\n",
    "                print(prefix + '    |   ')\n",
    "            else:\n",
    "                print(prefix )\n",
    "            if root.value == searched_value:\n",
    "                print(prefix +  '┌──>' + str(root.value) + ' ')\n",
    "            else:\n",
    "                print(prefix +  '┌──>' + str(root.value))\n",
    "\n",
    "        elif is_left == False:\n",
    "            if root.value == searched_value:\n",
    "                print(prefix  + '└──>' + str(root.value) + ' Searched')\n",
    "            else:\n",
    "                print(prefix  + '└──>' + str(root.value))\n",
    "            if root.right:\n",
    "                print(prefix + '    |   ')\n",
    "            else:\n",
    "                print(prefix )\n",
    "\n",
    "        else:\n",
    "            if root.value == searched_value:\n",
    "                print('|── ' + str(root.value) + ' Searched')\n",
    "            else:\n",
    "                print('|── ' + str(root.value))\n",
    "\n",
    "        if root.right:\n",
    "            print_tree(root.right, False, prefix + ('    ' if has_left_child else '|   '), has_right_child=False, has_left_child=True, searched_value=searched_value)\n",
    "    else:\n",
    "        if root.left:\n",
    "            print_tree(root.left, True, prefix + ('    ' if has_right_child else '|   '), has_right_child=True, has_left_child=False)\n",
    "\n",
    "        if is_left == True:\n",
    "            if root.left:\n",
    "                print(prefix + '    |   ')\n",
    "            else:\n",
    "                print(prefix)\n",
    "            print(prefix +  '┌──>' + str(root.value))\n",
    "\n",
    "        elif is_left == False:\n",
    "            print(prefix  + '└──>' + str(root.value))\n",
    "            if root.right:\n",
    "                print(prefix + '    |   ')\n",
    "            else:\n",
    "                print(prefix)\n",
    "\n",
    "        else:\n",
    "            print('|── ' + str(root.value))\n",
    "\n",
    "        if root.right:\n",
    "            print_tree(root.right, False, prefix + ('    ' if has_left_child else '|   '), has_right_child=False, has_left_child=True)"
   ]
  },
  {
   "cell_type": "code",
   "execution_count": 14,
   "metadata": {},
   "outputs": [],
   "source": [
    "def insert(root, value):\n",
    "    \"\"\"\n",
    "    Inserting value into binary tree\n",
    "    \"\"\"\n",
    "    if root is None:\n",
    "        return TreeNode(value)\n",
    "    else:\n",
    "        if value < root.value:\n",
    "            root.left = insert(root.left, value)\n",
    "        else:\n",
    "            root.right = insert(root.right, value)\n",
    "    return root"
   ]
  },
  {
   "cell_type": "code",
   "execution_count": 15,
   "metadata": {},
   "outputs": [],
   "source": [
    "def find_max(root):\n",
    "    \"\"\"\n",
    "    Searching max value in binary tree\n",
    "    \"\"\"\n",
    "    if root is None:\n",
    "        return None\n",
    "    while root.right:\n",
    "        root = root.right\n",
    "    return root.value\n"
   ]
  },
  {
   "cell_type": "code",
   "execution_count": 16,
   "metadata": {},
   "outputs": [],
   "source": [
    "def search(root, key):\n",
    "    \"\"\"\n",
    "    Searching value in binary tree\n",
    "    \"\"\"\n",
    "    if root is None or root.value == key:\n",
    "        return True\n",
    "    if root.value < key:\n",
    "        return search(root.right, key)\n",
    "    return search(root.left, key)   "
   ]
  },
  {
   "cell_type": "code",
   "execution_count": 17,
   "metadata": {},
   "outputs": [],
   "source": [
    "def show_searched_val(root, key):\n",
    "    \"\"\"\n",
    "    Searching value in binary tree and showing binary tree\n",
    "    \"\"\"\n",
    "    return print_tree(root, searched_value=key)\n"
   ]
  },
  {
   "cell_type": "code",
   "execution_count": 18,
   "metadata": {},
   "outputs": [],
   "source": [
    "nums = np.random.randint(0, 100, size=20)\n",
    "nums = [8, 3, 10, 1, 6, 14, 4, 7, 13, 31]"
   ]
  },
  {
   "cell_type": "code",
   "execution_count": 19,
   "metadata": {},
   "outputs": [],
   "source": [
    "root_n = None\n",
    "for num in nums:\n",
    "        root_n = insert(root_n, num)"
   ]
  },
  {
   "cell_type": "code",
   "execution_count": 20,
   "metadata": {},
   "outputs": [
    {
     "name": "stdout",
     "output_type": "stream",
     "text": [
      "        \n",
      "        ┌──>1\n",
      "        |   \n",
      "    ┌──>3\n",
      "    |   |   \n",
      "    |   |   ┌──>4\n",
      "    |   └──>6\n",
      "    |       |   \n",
      "    |       └──>7\n",
      "    |       \n",
      "|── 8\n",
      "    └──>10\n",
      "        |   \n",
      "        |   \n",
      "        |   ┌──>13\n",
      "        └──>14\n",
      "            |   \n",
      "            └──>31\n",
      "            \n"
     ]
    }
   ],
   "source": [
    "print_tree(root_n)"
   ]
  },
  {
   "cell_type": "code",
   "execution_count": 21,
   "metadata": {},
   "outputs": [
    {
     "name": "stdout",
     "output_type": "stream",
     "text": [
      "        \n",
      "        ┌──>1\n",
      "        |   \n",
      "    ┌──>3\n",
      "    |   |   \n",
      "    |   |   ┌──>4\n",
      "    |   └──>6 Searched\n",
      "    |       |   \n",
      "    |       └──>7\n",
      "    |       \n",
      "|── 8\n",
      "    └──>10\n",
      "        |   \n",
      "        |   \n",
      "        |   ┌──>13\n",
      "        └──>14\n",
      "            |   \n",
      "            └──>31\n",
      "            \n"
     ]
    }
   ],
   "source": [
    "show_searched_val(root_n, 6)"
   ]
  },
  {
   "cell_type": "code",
   "execution_count": 22,
   "metadata": {},
   "outputs": [
    {
     "data": {
      "text/plain": [
       "31"
      ]
     },
     "execution_count": 22,
     "metadata": {},
     "output_type": "execute_result"
    }
   ],
   "source": [
    "find_max(root_n)"
   ]
  }
 ],
 "metadata": {
  "kernelspec": {
   "display_name": ".venv",
   "language": "python",
   "name": "python3"
  },
  "language_info": {
   "codemirror_mode": {
    "name": "ipython",
    "version": 3
   },
   "file_extension": ".py",
   "mimetype": "text/x-python",
   "name": "python",
   "nbconvert_exporter": "python",
   "pygments_lexer": "ipython3",
   "version": "3.11.8"
  }
 },
 "nbformat": 4,
 "nbformat_minor": 2
}
