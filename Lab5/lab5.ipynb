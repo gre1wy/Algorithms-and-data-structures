{
 "cells": [
  {
   "cell_type": "code",
   "execution_count": 476,
   "metadata": {},
   "outputs": [],
   "source": [
    "import numpy as np"
   ]
  },
  {
   "cell_type": "code",
   "execution_count": 477,
   "metadata": {},
   "outputs": [],
   "source": [
    "class TreeNode:\n",
    "    def __init__(self, value=None, left=None, right=None):\n",
    "        self.value = value\n",
    "        self.left = left\n",
    "        self.right = right\n"
   ]
  },
  {
   "cell_type": "code",
   "execution_count": 478,
   "metadata": {},
   "outputs": [],
   "source": [
    "def print_tree(root, is_left=None, prefix='', has_right_child=True, has_left_child=True, searched_value=None):\n",
    "    \"\"\"\n",
    "    Demonstating binary tree\n",
    "    \"\"\"\n",
    "    if searched_value:\n",
    "        if root.left:\n",
    "            print_tree(root.left, True, prefix + ('    ' if has_right_child else '|   '), has_right_child=True, has_left_child=False, searched_value=searched_value)\n",
    "\n",
    "        if is_left == True:\n",
    "            if root.left:\n",
    "                print(prefix + '    |   ')\n",
    "            else:\n",
    "                print(prefix )\n",
    "            if root.value == searched_value:\n",
    "                print(prefix +  '┌──>' + str(root.value) + ' ')\n",
    "            else:\n",
    "                print(prefix +  '┌──>' + str(root.value))\n",
    "\n",
    "        elif is_left == False:\n",
    "            if root.value == searched_value:\n",
    "                print(prefix  + '└──>' + str(root.value) + ' Searched')\n",
    "            else:\n",
    "                print(prefix  + '└──>' + str(root.value))\n",
    "            if root.right:\n",
    "                print(prefix + '    |   ')\n",
    "            else:\n",
    "                print(prefix )\n",
    "\n",
    "        else:\n",
    "            if root.value == searched_value:\n",
    "                print('|── ' + str(root.value) + ' Searched')\n",
    "            else:\n",
    "                print('|── ' + str(root.value))\n",
    "\n",
    "        if root.right:\n",
    "            print_tree(root.right, False, prefix + ('    ' if has_left_child else '|   '), has_right_child=False, has_left_child=True, searched_value=searched_value)\n",
    "    else:\n",
    "        if root.left:\n",
    "            print_tree(root.left, True, prefix + ('    ' if has_right_child else '|   '), has_right_child=True, has_left_child=False)\n",
    "\n",
    "        if is_left == True:\n",
    "            if root.left:\n",
    "                print(prefix + '    |   ')\n",
    "            else:\n",
    "                print(prefix )\n",
    "            print(prefix +  '┌──>' + str(root.value))\n",
    "\n",
    "        elif is_left == False:\n",
    "            print(prefix  + '└──>' + str(root.value))\n",
    "            if root.right:\n",
    "                print(prefix + '    |   ')\n",
    "            else:\n",
    "                print(prefix )\n",
    "\n",
    "        else:\n",
    "            print('|── ' + str(root.value))\n",
    "\n",
    "        if root.right:\n",
    "            print_tree(root.right, False, prefix + ('    ' if has_left_child else '|   '), has_right_child=False, has_left_child=True)"
   ]
  },
  {
   "cell_type": "code",
   "execution_count": 479,
   "metadata": {},
   "outputs": [],
   "source": [
    "def find_min(node):\n",
    "    current = node\n",
    "    while current.left is not None:\n",
    "        current = current.left\n",
    "    return current\n"
   ]
  },
  {
   "cell_type": "code",
   "execution_count": 480,
   "metadata": {},
   "outputs": [],
   "source": [
    "def delete_node(root, value, file_path=None):\n",
    "    if root is None:\n",
    "        return root\n",
    "    \n",
    "    if value < root.value:\n",
    "        root.left = delete_node(root.left, value, file_path)\n",
    "    elif value > root.value:\n",
    "        root.right = delete_node(root.right, value, file_path)\n",
    "    else:\n",
    "        if root.left is None:\n",
    "            temp = root.right\n",
    "            root = None\n",
    "            return temp\n",
    "        elif root.right is None:\n",
    "            temp = root.left\n",
    "            root = None\n",
    "            return temp\n",
    "        \n",
    "        temp = find_min(root.right)\n",
    "        root.value = temp.value\n",
    "        root.right = delete_node(root.right, temp.value, file_path)\n",
    "\n",
    "    if file_path:  \n",
    "        with open(file_path, 'r') as f:\n",
    "            lines = f.readlines()\n",
    "        with open(file_path, 'w') as f:\n",
    "            for line in lines:\n",
    "                words = line.split()  # Розділяємо рядок на слова\n",
    "                updated_line = ' '.join(word for word in words if word != str(value)) \n",
    "                f.write(updated_line + '\\n') \n",
    "\n",
    "    return root"
   ]
  },
  {
   "cell_type": "code",
   "execution_count": 481,
   "metadata": {},
   "outputs": [],
   "source": [
    "def search(root, key):\n",
    "    \"\"\"\n",
    "    Searching value in binary tree\n",
    "    \"\"\"\n",
    "    if root is None or root.value == key:\n",
    "        return True\n",
    "    if root.value < key:\n",
    "        return search(root.right, key)\n",
    "    return search(root.left, key)     \n"
   ]
  },
  {
   "cell_type": "code",
   "execution_count": 482,
   "metadata": {},
   "outputs": [],
   "source": [
    "def show_searched_val(root, key):\n",
    "    \"\"\"\n",
    "    Searching value in binary tree and showing binary tree\n",
    "    \"\"\"\n",
    "    return print_tree(root, searched_value=key)\n"
   ]
  },
  {
   "cell_type": "code",
   "execution_count": 483,
   "metadata": {},
   "outputs": [],
   "source": [
    "def find_max(root):\n",
    "    \"\"\"\n",
    "    Searching max value in binary tree\n",
    "    \"\"\"\n",
    "    if root is None:\n",
    "        return None\n",
    "    while root.right:\n",
    "        root = root.right\n",
    "    return root.value\n"
   ]
  },
  {
   "cell_type": "code",
   "execution_count": 484,
   "metadata": {},
   "outputs": [],
   "source": [
    "def show_max(root):\n",
    "    \"\"\"\n",
    "    Searching max value in binary tree and showing binary tree\n",
    "    \"\"\"\n",
    "    key = find_max(root)\n",
    "    return print_tree(root, searched_value=key)\n"
   ]
  },
  {
   "cell_type": "code",
   "execution_count": 485,
   "metadata": {},
   "outputs": [],
   "source": [
    "def insert(root, value):\n",
    "    \"\"\"\n",
    "    Inserting value into binary tree\n",
    "    \"\"\"\n",
    "    if root is None:\n",
    "        return TreeNode(value)\n",
    "    else:\n",
    "        if value < root.value:\n",
    "            root.left = insert(root.left, value)\n",
    "        else:\n",
    "            root.right = insert(root.right, value)\n",
    "    return root\n"
   ]
  },
  {
   "cell_type": "code",
   "execution_count": 486,
   "metadata": {},
   "outputs": [],
   "source": [
    "def build_binary_tree_from_file(file_path):\n",
    "    root = None\n",
    "    with open(file_path, 'r') as file:\n",
    "        for line in file:\n",
    "            words = line.split()\n",
    "            for word in words:\n",
    "                root = insert(root, word)\n",
    "    return root"
   ]
  },
  {
   "cell_type": "code",
   "execution_count": 487,
   "metadata": {},
   "outputs": [],
   "source": [
    "def search_insert(root, key, file_path=None):\n",
    "    \"\"\"\n",
    "    Searching value in binary tree and installing if missing\n",
    "    \"\"\"\n",
    "    if root is None or root.value == key:\n",
    "        return True\n",
    "    if root.value < key:\n",
    "        if root.right is None:\n",
    "            root.right = TreeNode(key)\n",
    "            if file_path:  # Додати ключ у файл, якщо вказаний\n",
    "                with open(file_path, 'a') as f:\n",
    "                    f.write(\" \" + str(key))\n",
    "                    f.flush()\n",
    "            return False  # Повертаємо False, щоб показати, що значення було вставлене\n",
    "        else:\n",
    "            return search_insert(root.right, key, file_path)\n",
    "    else:\n",
    "        if root.left is None:\n",
    "            root.left = TreeNode(key)\n",
    "            if file_path:  # Додати ключ у файл, якщо вказаний\n",
    "                with open(file_path, 'a') as f:\n",
    "                    f.write(\" \" + str(key))\n",
    "                    f.flush()\n",
    "            return False  \n",
    "        else:\n",
    "            return search_insert(root.left, key, file_path)"
   ]
  },
  {
   "cell_type": "code",
   "execution_count": 488,
   "metadata": {},
   "outputs": [],
   "source": [
    "nums = np.random.randint(0, 100, size=20)\n",
    "nums = [8, 3, 10, 1, 6, 14, 4, 7, 13, 31]"
   ]
  },
  {
   "cell_type": "code",
   "execution_count": 489,
   "metadata": {},
   "outputs": [],
   "source": [
    "root = None\n",
    "for num in nums:\n",
    "        root = insert(root, num)"
   ]
  },
  {
   "cell_type": "code",
   "execution_count": 490,
   "metadata": {},
   "outputs": [
    {
     "name": "stdout",
     "output_type": "stream",
     "text": [
      "                    \n",
      "                    ┌──>cjewofmeop\n",
      "                    |   └──>coefre\n",
      "                    |   \n",
      "                    |   \n",
      "                ┌──>ejoo\n",
      "                |   └──>fereveo\n",
      "                |   \n",
      "                |   \n",
      "            ┌──>frejk\n",
      "            |   \n",
      "        ┌──>gren\n",
      "        |   \n",
      "    ┌──>grr\n",
      "    |   └──>gtewf\n",
      "    |   \n",
      "|── kgrj\n",
      "    |       \n",
      "    |       ┌──>kgrkf\n",
      "    |       |   \n",
      "    |   ┌──>lpth\n",
      "    |   |   └──>qokdewos\n",
      "    |   |       |   \n",
      "    |   |       └──>rergthrkgrkf\n",
      "    |   |       \n",
      "    └──>rvfl\n",
      "    \n"
     ]
    }
   ],
   "source": [
    "root = build_binary_tree_from_file(\"text.txt\")\n",
    "print_tree(root)\n"
   ]
  },
  {
   "cell_type": "code",
   "execution_count": 491,
   "metadata": {},
   "outputs": [
    {
     "data": {
      "text/plain": [
       "False"
      ]
     },
     "execution_count": 491,
     "metadata": {},
     "output_type": "execute_result"
    }
   ],
   "source": [
    "search_insert(root, \"ferg\", file_path=\"text.txt\")"
   ]
  },
  {
   "cell_type": "code",
   "execution_count": 492,
   "metadata": {},
   "outputs": [
    {
     "name": "stdout",
     "output_type": "stream",
     "text": [
      "                    \n",
      "                    ┌──>cjewofmeop\n",
      "                    |   └──>coefre\n",
      "                    |   \n",
      "                    |   \n",
      "                ┌──>ejoo\n",
      "                |   └──>fereveo\n",
      "                |       |   \n",
      "                |       └──>ferg\n",
      "                |       \n",
      "                |   \n",
      "            ┌──>frejk\n",
      "            |   \n",
      "        ┌──>gren\n",
      "        |   \n",
      "    ┌──>grr\n",
      "    |   └──>gtewf\n",
      "    |   \n",
      "|── kgrj\n",
      "    |       \n",
      "    |       ┌──>kgrkf\n",
      "    |       |   \n",
      "    |   ┌──>lpth\n",
      "    |   |   └──>qokdewos\n",
      "    |   |       |   \n",
      "    |   |       └──>rergthrkgrkf\n",
      "    |   |       \n",
      "    └──>rvfl\n",
      "    \n"
     ]
    }
   ],
   "source": [
    "print_tree(root)"
   ]
  },
  {
   "cell_type": "code",
   "execution_count": 495,
   "metadata": {},
   "outputs": [
    {
     "data": {
      "text/plain": [
       "<__main__.TreeNode at 0x2b5efd39690>"
      ]
     },
     "execution_count": 495,
     "metadata": {},
     "output_type": "execute_result"
    }
   ],
   "source": [
    "delete_node(root, \"ejoo\", file_path=\"text.txt\")"
   ]
  },
  {
   "cell_type": "code",
   "execution_count": 496,
   "metadata": {},
   "outputs": [
    {
     "name": "stdout",
     "output_type": "stream",
     "text": [
      "                    \n",
      "                    ┌──>cjewofmeop\n",
      "                    |   └──>coefre\n",
      "                    |   \n",
      "                    |   \n",
      "                ┌──>fereveo\n",
      "                |   └──>ferg\n",
      "                |   \n",
      "                |   \n",
      "            ┌──>frejk\n",
      "            |   \n",
      "        ┌──>gren\n",
      "        |   \n",
      "    ┌──>grr\n",
      "    |   └──>gtewf\n",
      "    |   \n",
      "|── kgrj\n",
      "    |       \n",
      "    |       ┌──>kgrkf\n",
      "    |       |   \n",
      "    |   ┌──>lpth\n",
      "    |   |   └──>qokdewos\n",
      "    |   |       |   \n",
      "    |   |       └──>rergthrkgrkf\n",
      "    |   |       \n",
      "    └──>rvfl\n",
      "    \n"
     ]
    }
   ],
   "source": [
    "print_tree(root)"
   ]
  },
  {
   "cell_type": "code",
   "execution_count": null,
   "metadata": {},
   "outputs": [],
   "source": []
  }
 ],
 "metadata": {
  "kernelspec": {
   "display_name": ".venv",
   "language": "python",
   "name": "python3"
  },
  "language_info": {
   "codemirror_mode": {
    "name": "ipython",
    "version": 3
   },
   "file_extension": ".py",
   "mimetype": "text/x-python",
   "name": "python",
   "nbconvert_exporter": "python",
   "pygments_lexer": "ipython3",
   "version": "3.11.8"
  }
 },
 "nbformat": 4,
 "nbformat_minor": 2
}
